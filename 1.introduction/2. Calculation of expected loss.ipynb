{
 "cells": [
  {
   "cell_type": "markdown",
   "metadata": {},
   "source": [
    "# 2. Calculation of expected loss\n",
    "\n",
    "It is normal for lenders to incur credit losses from every portfolio or exposure over a given period of time.In other words, lenders know that there is a certain amount of credit risk associated with every borrower. They expect that there could be a loss when lending to any borrower. Such expected loss comes at a result of different types of factors. Borrower specific factors, the economic environment and the combination of the two.\n",
    "\n",
    "In addition, lenders may also incur unexpected losses. These are most likely results of adverse economic circumstances that affect the whole economic environment. It is highly unlikely, but still possible that lenders suffer exceptional losses, for example, due to a severe economic downturn."
   ]
  },
  {
   "cell_type": "markdown",
   "metadata": {},
   "source": [
    "## 2.1 calculation of expected loss\n",
    "In this class, we will focus on the ways to estimate expected loss, which is associated with credit risk. These are also called expected credit losses.\n",
    "\n",
    "On exposure level, expected loss is the amount a lender might lose by lending to a borrower. There may be many different approaches to estimate and forecast that amount, but the established credit risk modeling framework defines expected loss as the product of three components probability of default, loss given default and exposure at default.\n",
    "\n",
    "Lenders build different statistical models to estimate each of these components and then multiply them to obtain the expected loss for a given exposure level.\n",
    "\n",
    "\n",
    "## 2.2 components of expected loss\n",
    "Let's take a closer look at the three components:\n",
    "\n",
    "- PD\n",
    "Probability of default, or PD, is the likelihood that a borrower would not be able or would not be\n",
    "willing to repay their debt in full or on time. In other words, it is an estimate of the likelihood that the borrower would default. Usually PD refers to a particular time horizon.\n",
    "\n",
    "- LGD\n",
    "Loss given default or LGD is the share of an asset that is lost if a borrower defaults. It is the proportion of the total exposure that cannot be recovered by the lender.\n",
    "\n",
    "- EAD\n",
    "Once a default has occurred. Exposure at default or IAD is the total value that a lender is exposed to when a borrower defaults. Therefore, it is the maximum that a bank may lose when a borrower defaults on a loan.\n",
    "\n",
    "## 2.3 example of expected loss\n",
    "Let's assume that a borrower wants to buy a house for 500000 dollars, the lender, that is the bank funds 80 percent of the purchase. This proportion is often referred to as loan to value. So we can say that loan to value is 80 percent.\n",
    "\n",
    "The loan amount is equal to 80 percent of 500000 dollars. That is 400000 dollars.\n",
    "\n",
    "By now, the borrower has repaid 40000 dollars.\n",
    "\n",
    "So the outstanding balance is 360000 dollars. If the borrower defaults, the exposure a default would therefore be 360000 dollars.\n",
    "\n",
    "Assume that there is empirical evidence that one in four homeowners have defaulted in previous years. So probability of default equals one divided by four, which is 25 percent. If the borrower defaults, the bank can sell the house immediately for 342000 dollars, meaning it can recover 342000 dollars.\n",
    "\n",
    "Then the remaining loss would be 18000 dollars and loss given default would be 18000 dollars, divided by 360000 dollars, equaling 5%.\n",
    "\n",
    "If the bank had to calculate its expected loss for that exposure in this very moment, it would be as follows.\n",
    "\n",
    "EL = PD * LGD *EAD = 25 % * 5% * 360000 dollars = 4500 dollars."
   ]
  }
 ],
 "metadata": {
  "language_info": {
   "name": "python"
  },
  "orig_nbformat": 4
 },
 "nbformat": 4,
 "nbformat_minor": 2
}
