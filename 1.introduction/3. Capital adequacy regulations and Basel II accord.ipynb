{
 "cells": [
  {
   "cell_type": "markdown",
   "metadata": {},
   "source": [
    "# 3. Capital adequacy regulations and Basel II accord"
   ]
  },
  {
   "cell_type": "markdown",
   "metadata": {},
   "source": [
    "## 3.1 risks of loans\n",
    "Regulators have come up with a set of rules that have two main goals.\n",
    "\n",
    "- First, regulate bank operations and hence reduce risky behavior.\n",
    "\n",
    "- Second, guarantee to the public that the banking system is in good health.\n",
    "\n",
    "More precisely, regulators required that banks hold a certain amount of money, which is their own capital, which would allow them to absorb losses from defaults on the loans in their portfolios.\n",
    "\n",
    "These defaults can be due to factors characterizing the individual exposure or due to factors affecting\n",
    "the economic environment as a whole. For example, a firm can default on its loan because of poor corporate management or because the demand for its products has decreased sharply.\n",
    "\n",
    "However, it can also default due to a global economic downturn.\n",
    "\n",
    "If clients have less money they can spend, they will naturally buy less of the firm's products.\n",
    "\n",
    "## 3.2 capital adequacy\n",
    "\n",
    "Therefore, given than this could happen and does in fact happen in real life, banks are required to hold sufficient capital that would allow them to absorb the loss from this and other defaults. This obligation is called capital requirement. It is also known as capital adequacy or regulatory capital.\n",
    "\n",
    "The capital that a bank needs to have on its balance sheet is determined as a proportion of its assets, which in most cases are mainly loans. The capital requirement must take into account the risk associated with each asset or portfolio. This is done by waiving the assets by the risk associated with them. The final product of this process is called risk weighted assets. The capital requirement postulates that the bank must hold a capital that is equal or greater than a certain percentage of the risk weighted assets.\n",
    "\n",
    "Put differently, the ratio between the capital a bank holds and its risk weighted assets should be equal to or greater than a certain percentage. By the way, this ratio is called capital adequacy ratio or CAR.\n",
    "\n",
    "## 3.3 Basel II accord\n",
    "One of the most important documents that prescribes how much capital banks need to have, how capital is defined and how it is compared against risk weighted assets, is the Basel II accord.\n",
    "\n",
    "The primary objective of the Basel two accord is to ensure that the Capital Allocation Bank carry out its risk sensitive. The greater the risk a bank is exposed to, the greater the amount of capital the bank needs to hold\n",
    "\n",
    "## 3.4 three pillars to safeguard its solvency and overall economic stability.\n",
    "\n",
    "### 3.4.1 Minimum Capital Requirements: \n",
    "\n",
    "The first pillar of the Basel II accord called deals with the major types of risk a bank faces:\n",
    "\n",
    "3.4.1.1 credit risk. The Basel two accord outlines three different approaches to model credit risk:\n",
    "- standardised approach or SA foundation\n",
    "- internal ratings based or IRB approach: foundations internal ratings based F-IRB approach and advanced internal ratings based or a A-IRB approach.\n",
    "\n",
    "3.4.1.2 operational risk. \n",
    "\n",
    "3.4.1.3 market risk.\n",
    "\n",
    "\n",
    "These approaches prescribe how each of the different components of expected loss is being modeled.\n",
    "\t\n",
    "### 3.4.2 Supervisory Review\n",
    "\n",
    "### 3.4.3 Market Discipline"
   ]
  }
 ],
 "metadata": {
  "language_info": {
   "name": "python"
  },
  "orig_nbformat": 4
 },
 "nbformat": 4,
 "nbformat_minor": 2
}
