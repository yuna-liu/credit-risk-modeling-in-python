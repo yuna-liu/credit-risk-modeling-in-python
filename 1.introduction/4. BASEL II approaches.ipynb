{
 "cells": [
  {
   "cell_type": "markdown",
   "metadata": {},
   "source": [
    "# 4. BASEL II approaches"
   ]
  },
  {
   "cell_type": "markdown",
   "metadata": {},
   "source": [
    "## 4.1 BASEL II Accord has three pillars:\n",
    "1. Minimum Capital Requirements\n",
    "\t- Credit Risk\n",
    "\t\t* Standardised approach or SA foundation: the capital is a % of the total exposure. Banks are required to use data from external credit agencies to assess credit risk, like FICO, Moody's etc do credit risk rating.\n",
    "\t\t\n",
    "\t\tRisk-weights for countries: \n",
    "\t\tAAA to AA-:  0%\n",
    "\t\tA+ to A-:  20% of exposure should be held as capital\n",
    "\t\tBBB+ to BBB-: 50% of exposure should be held as capital\n",
    "\t\tBB+ to B-: 100%\n",
    "\t\tBelow BB-: 150%\n",
    "\t\tunrated: 100%\n",
    "\n",
    "\t\tRisk-weights for firms: \n",
    "\t\tAAA to AA- rated companies: 20%\n",
    "\t\tA+ to A-:  50% of exposure should be held as capital\n",
    "\t\tBBB+ to BB-: 100%\n",
    "\t\tUnder BB-: 150%\n",
    "\t\tUnrated: 100%\n",
    "\t\t\n",
    "\t\tRetail:\n",
    "\t\tCredit Card and Consumer loans - 75% of the loan given\n",
    "\t\tHome Loans, mortgages - banks should keep capital = 35% of exposure\n",
    "\n",
    "\n",
    "\t\t* Internal ratings based or IRB approach: expected loss is calculated and the bank's capital should be sufficient to cover expected losses. \n",
    "\n",
    "\t\t\t\n",
    "\t\t\t** Foundations internal ratings based F-IRB approach\n",
    "\n",
    "\t\t\t** Advanced internal ratings based or a A-IRB approach\n",
    "\t- Operational Risk\n",
    "\n",
    "\t- Market Risk\n",
    "\t\n",
    "2. Supervisory Review\n",
    "3. Market Discipline\n",
    "\n",
    "## 4.2 BASEL II allows bank to use data\n",
    "When banks give out the loans they collect data and this data could be used for more detailed estimation of credit risk under IRB approach.\n",
    "\n",
    "Banks would like to transit from SA to F-IRB, then to A-IRB.\n",
    "\n",
    "Because SA requires bank to hold as much as 75% of the loan.\n",
    "While under F-IRB and A-IRB, banks are allowed to do their own credit ratings.\n",
    "If a bank gets a proper risk profile of an individual, they would need to hold less amount of money.\n",
    "\n",
    "More Precise estimation of Capital ==> More new business with SAME capital\n",
    "\n",
    "\n"
   ]
  }
 ],
 "metadata": {
  "language_info": {
   "name": "python"
  },
  "orig_nbformat": 4
 },
 "nbformat": 4,
 "nbformat_minor": 2
}
